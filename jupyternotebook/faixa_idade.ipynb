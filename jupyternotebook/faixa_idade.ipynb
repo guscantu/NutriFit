{
 "cells": [
  {
   "cell_type": "markdown",
   "id": "40174635",
   "metadata": {},
   "source": [
    "Exemplo de uso da API da tabelas Faixa Idade:\n"
   ]
  },
  {
   "cell_type": "markdown",
   "id": "2c12c126",
   "metadata": {},
   "source": [
    "Este notebook demonstra o funcionamento da API de Faixa Idade do sistema NutriFit."
   ]
  },
  {
   "cell_type": "code",
   "execution_count": 1,
   "id": "0b58d54b",
   "metadata": {},
   "outputs": [],
   "source": [
    "import requests\n",
    "from pprint import pprint"
   ]
  },
  {
   "cell_type": "code",
   "execution_count": 2,
   "id": "2f9d9103",
   "metadata": {},
   "outputs": [],
   "source": [
    "BASE_URL = \"http://localhost:5000/api/faixas_idade\""
   ]
  },
  {
   "cell_type": "markdown",
   "id": "4a8413fb",
   "metadata": {},
   "source": [
    "Criar uma faixa de Idade:"
   ]
  },
  {
   "cell_type": "code",
   "execution_count": 4,
   "id": "fedaf484",
   "metadata": {},
   "outputs": [
    {
     "name": "stdout",
     "output_type": "stream",
     "text": [
      "Status: 201\n",
      "{'faixa_max': 25, 'faixa_min': 18, 'id': 2}\n"
     ]
    }
   ],
   "source": [
    "payload = {\n",
    "    \"faixa_min\": 18,\n",
    "    \"faixa_max\": 25\n",
    "}\n",
    "response = requests.post(f\"{BASE_URL}\", json=payload)\n",
    "print(\"Status:\", response.status_code)\n",
    "\n",
    "if response.status_code == 201:\n",
    "    faixa = response.json()\n",
    "    pprint(faixa)\n",
    "    faixa_id = faixa.get(\"id\")\n",
    "else:\n",
    "    print(\"Erro ao criar faixa:\", response.text)\n",
    "    faixa_id = None"
   ]
  },
  {
   "cell_type": "markdown",
   "id": "609a1ce5",
   "metadata": {},
   "source": [
    "Buscar uma Faixa de Idade por ID:"
   ]
  },
  {
   "cell_type": "code",
   "execution_count": 4,
   "id": "b8e015cb",
   "metadata": {},
   "outputs": [
    {
     "name": "stdout",
     "output_type": "stream",
     "text": [
      "Status: 200\n",
      "{'faixa_max': 25, 'faixa_min': 18, 'id': 1}\n"
     ]
    }
   ],
   "source": [
    "if faixa_id:\n",
    "    response = requests.get(f\"{BASE_URL}/{faixa_id}\")\n",
    "    print(\"Status:\", response.status_code)\n",
    "    try:\n",
    "        pprint(response.json())\n",
    "    except Exception as e:\n",
    "        print(\"Erro ao converter para JSON:\", e)\n",
    "        print(\"Resposta:\", response.text)\n"
   ]
  },
  {
   "cell_type": "markdown",
   "id": "b719b552",
   "metadata": {},
   "source": [
    "Listar Faixas de Idade:"
   ]
  },
  {
   "cell_type": "code",
   "execution_count": 3,
   "id": "15ff3820",
   "metadata": {},
   "outputs": [
    {
     "name": "stdout",
     "output_type": "stream",
     "text": [
      "Status: 200\n",
      "[]\n"
     ]
    }
   ],
   "source": [
    "response = requests.get(f\"{BASE_URL}\")\n",
    "print(\"Status:\", response.status_code)\n",
    "try:\n",
    "    pprint(response.json())\n",
    "except Exception as e:\n",
    "    print(\"Erro ao converter para JSON:\", e)\n",
    "    print(\"Resposta:\", response.text)"
   ]
  },
  {
   "cell_type": "markdown",
   "id": "68a6c017",
   "metadata": {},
   "source": [
    "Atualizar Faixa de Idade:"
   ]
  },
  {
   "cell_type": "code",
   "execution_count": 6,
   "id": "6bbcb553",
   "metadata": {},
   "outputs": [
    {
     "name": "stdout",
     "output_type": "stream",
     "text": [
      "Status: 200\n",
      "{'faixa_max': 30, 'faixa_min': 20, 'id': 1}\n"
     ]
    }
   ],
   "source": [
    "if faixa_id:\n",
    "    update_payload = {\n",
    "        \"faixa_min\": 20,\n",
    "        \"faixa_max\": 30\n",
    "    }\n",
    "    response = requests.put(f\"{BASE_URL}/{faixa_id}\", json=update_payload)\n",
    "    print(\"Status:\", response.status_code)\n",
    "    try:\n",
    "        pprint(response.json())\n",
    "    except Exception as e:\n",
    "        print(\"Erro ao converter para JSON:\", e)\n",
    "        print(\"Resposta:\", response.text)"
   ]
  },
  {
   "cell_type": "markdown",
   "id": "51a0e085",
   "metadata": {},
   "source": [
    "Deletar Faixa de Idade:"
   ]
  },
  {
   "cell_type": "code",
   "execution_count": 7,
   "id": "2518c13e",
   "metadata": {},
   "outputs": [
    {
     "name": "stdout",
     "output_type": "stream",
     "text": [
      "Status: 204\n",
      "Faixa deletada com sucesso.\n"
     ]
    }
   ],
   "source": [
    "if faixa_id:\n",
    "    response = requests.delete(f\"{BASE_URL}/{faixa_id}\")\n",
    "    print(\"Status:\", response.status_code)\n",
    "    if response.status_code == 204:\n",
    "        print(\"Faixa deletada com sucesso.\")\n",
    "    else:\n",
    "        try:\n",
    "            pprint(response.json())\n",
    "        except Exception:\n",
    "            print(response.text)"
   ]
  }
 ],
 "metadata": {
  "kernelspec": {
   "display_name": "Python 3",
   "language": "python",
   "name": "python3"
  },
  "language_info": {
   "codemirror_mode": {
    "name": "ipython",
    "version": 3
   },
   "file_extension": ".py",
   "mimetype": "text/x-python",
   "name": "python",
   "nbconvert_exporter": "python",
   "pygments_lexer": "ipython3",
   "version": "3.13.2"
  }
 },
 "nbformat": 4,
 "nbformat_minor": 5
}
