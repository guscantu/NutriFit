{
 "cells": [
  {
   "cell_type": "markdown",
   "id": "4a714b4a",
   "metadata": {},
   "source": [
    "Exemplo de uso da API da tabelas Faixa Peso:"
   ]
  },
  {
   "cell_type": "markdown",
   "id": "12dad6e3",
   "metadata": {},
   "source": [
    "Este notebook demonstra o funcionamento da API de Faixa Peso do sistema NutriFit."
   ]
  },
  {
   "cell_type": "code",
   "execution_count": 1,
   "id": "7047915f",
   "metadata": {},
   "outputs": [],
   "source": [
    "import requests\n",
    "from pprint import pprint\n"
   ]
  },
  {
   "cell_type": "code",
   "execution_count": 2,
   "id": "1a037635",
   "metadata": {},
   "outputs": [],
   "source": [
    "BASE_URL = 'http://localhost:5000/api'\n"
   ]
  },
  {
   "cell_type": "markdown",
   "id": "31c5eefe",
   "metadata": {},
   "source": [
    "Listar Faixas de Peso>"
   ]
  },
  {
   "cell_type": "code",
   "execution_count": 3,
   "id": "723b3434",
   "metadata": {},
   "outputs": [
    {
     "name": "stdout",
     "output_type": "stream",
     "text": [
      "\n",
      "📥 GET /faixas_peso\n",
      "Status: 200\n",
      "[{'faixa_max': 50.0, 'faixa_min': 40.0, 'id': 6}]\n"
     ]
    }
   ],
   "source": [
    "print(\"\\n📥 GET /faixas_peso\")\n",
    "response = requests.get(f\"{BASE_URL}/faixas_peso\")\n",
    "print(\"Status:\", response.status_code)\n",
    "try:\n",
    "    pprint(response.json())\n",
    "except Exception as e:\n",
    "    print(\"Erro ao converter JSON:\", e)\n",
    "    print(\"Resposta:\", response.text)"
   ]
  },
  {
   "cell_type": "markdown",
   "id": "3ca5c335",
   "metadata": {},
   "source": [
    "Criar uma Faixa De Peso:"
   ]
  },
  {
   "cell_type": "code",
   "execution_count": 63,
   "id": "e0188bc7",
   "metadata": {},
   "outputs": [
    {
     "name": "stdout",
     "output_type": "stream",
     "text": [
      "\n",
      "➕ POST /faixas_peso - Criar faixa\n",
      "Status: 201\n",
      "{'faixa_max': 50.0, 'faixa_min': 40.0, 'id': 6}\n"
     ]
    }
   ],
   "source": [
    "print(\"\\n➕ POST /faixas_peso - Criar faixa\")\n",
    "payload = {\n",
    "    \"faixa_min\": 40,\n",
    "    \"faixa_max\": 50\n",
    "}\n",
    "response = requests.post(f\"{BASE_URL}/faixas_peso\", json=payload)\n",
    "print(\"Status:\", response.status_code)\n",
    "\n",
    "if response.status_code == 201:\n",
    "    faixa = response.json()\n",
    "    pprint(faixa)\n",
    "    faixa_id = faixa.get(\"id\")\n",
    "else:\n",
    "    print(\"Erro ao criar faixa:\", response.text)\n",
    "    faixa_id = None"
   ]
  },
  {
   "cell_type": "markdown",
   "id": "642a2097",
   "metadata": {},
   "source": [
    "Pegar Faixa Pelo ID:"
   ]
  },
  {
   "cell_type": "code",
   "execution_count": 59,
   "id": "7d615618",
   "metadata": {},
   "outputs": [
    {
     "name": "stdout",
     "output_type": "stream",
     "text": [
      "\n",
      "📥 GET /faixas_peso/5 - Buscar faixa\n",
      "Status: 200\n",
      "{'faixa_max': 50.0, 'faixa_min': 40.0, 'id': 5}\n"
     ]
    }
   ],
   "source": [
    "if faixa_id:\n",
    "    print(f\"\\n📥 GET /faixas_peso/{faixa_id} - Buscar faixa\")\n",
    "    response = requests.get(f\"{BASE_URL}/faixas_peso/{faixa_id}\")\n",
    "    print(\"Status:\", response.status_code)\n",
    "    try:\n",
    "        pprint(response.json())\n",
    "    except Exception as e:\n",
    "        print(\"Erro ao converter para JSON:\", e)\n",
    "        print(\"Resposta:\", response.text)"
   ]
  },
  {
   "cell_type": "markdown",
   "id": "e2741ce8",
   "metadata": {},
   "source": [
    "Atualizar uma Faixa de Peso:"
   ]
  },
  {
   "cell_type": "code",
   "execution_count": 60,
   "id": "632bbffb",
   "metadata": {},
   "outputs": [
    {
     "name": "stdout",
     "output_type": "stream",
     "text": [
      "\n",
      "✏️ PUT /faixas_peso/5 - Atualizar faixa\n",
      "Status: 200\n",
      "{'faixa_max': 75.0, 'faixa_min': 65.0, 'id': 5}\n"
     ]
    }
   ],
   "source": [
    "if faixa_id:\n",
    "    print(f\"\\n✏️ PUT /faixas_peso/{faixa_id} - Atualizar faixa\")\n",
    "    update_payload = {\n",
    "        \"faixa_min\": 65,\n",
    "        \"faixa_max\": 75\n",
    "    }\n",
    "    response = requests.put(f\"{BASE_URL}/faixas_peso/{faixa_id}\", json=update_payload)\n",
    "    print(\"Status:\", response.status_code)\n",
    "    try:\n",
    "        pprint(response.json())\n",
    "    except Exception as e:\n",
    "        print(\"Erro ao converter para JSON:\", e)\n",
    "        print(\"Resposta:\", response.text)"
   ]
  },
  {
   "cell_type": "markdown",
   "id": "c3244dc0",
   "metadata": {},
   "source": [
    "Deletar uma Faixa de Peso:"
   ]
  },
  {
   "cell_type": "code",
   "execution_count": 61,
   "id": "c3be19b5",
   "metadata": {},
   "outputs": [
    {
     "name": "stdout",
     "output_type": "stream",
     "text": [
      "\n",
      "❌ DELETE /faixas_peso/5 - Deletar faixa\n",
      "Status: 204\n",
      "Faixa deletada com sucesso.\n"
     ]
    }
   ],
   "source": [
    "if faixa_id:\n",
    "    print(f\"\\n❌ DELETE /faixas_peso/{faixa_id} - Deletar faixa\")\n",
    "    response = requests.delete(f\"{BASE_URL}/faixas_peso/{faixa_id}\")\n",
    "    print(\"Status:\", response.status_code)\n",
    "    if response.status_code == 204:\n",
    "        print(\"Faixa deletada com sucesso.\")\n",
    "    else:\n",
    "        try:\n",
    "            pprint(response.json())\n",
    "        except Exception:\n",
    "            print(response.text)"
   ]
  }
 ],
 "metadata": {
  "kernelspec": {
   "display_name": "Python 3",
   "language": "python",
   "name": "python3"
  },
  "language_info": {
   "codemirror_mode": {
    "name": "ipython",
    "version": 3
   },
   "file_extension": ".py",
   "mimetype": "text/x-python",
   "name": "python",
   "nbconvert_exporter": "python",
   "pygments_lexer": "ipython3",
   "version": "3.13.2"
  }
 },
 "nbformat": 4,
 "nbformat_minor": 5
}
