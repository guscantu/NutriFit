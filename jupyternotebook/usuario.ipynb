{
 "cells": [
  {
   "cell_type": "markdown",
   "id": "fdddbdb1",
   "metadata": {},
   "source": [
    "Exemplo de uso da API da tabela Usuário:"
   ]
  },
  {
   "cell_type": "markdown",
   "id": "5d2264de",
   "metadata": {},
   "source": [
    "Este notebook demonstra o funcionamento da API de Usuários do sistema NutriFit."
   ]
  },
  {
   "cell_type": "code",
   "execution_count": 4,
   "id": "886e34fc",
   "metadata": {},
   "outputs": [],
   "source": [
    "import requests\n",
    "import json"
   ]
  },
  {
   "cell_type": "code",
   "execution_count": 1,
   "id": "59a255ee",
   "metadata": {},
   "outputs": [],
   "source": [
    "BASE_URL = \"http://127.0.0.1:5000/api/usuarios\""
   ]
  },
  {
   "cell_type": "markdown",
   "id": "8fcb049b",
   "metadata": {},
   "source": [
    "CRIAR NOVO USUÁRIO:"
   ]
  },
  {
   "cell_type": "code",
   "execution_count": 5,
   "id": "d28a1fed",
   "metadata": {},
   "outputs": [
    {
     "name": "stdout",
     "output_type": "stream",
     "text": [
      "Status: 201\n",
      "Resposta: {'altura': 1.75, 'id': 4, 'idade': 30, 'nome': 'Teste Notebook', 'objetivo': 'manter peso', 'peso': 70.0, 'restricoes': 'nenhuma'}\n"
     ]
    }
   ],
   "source": [
    "novo_usuario = {\n",
    "    \"nome\": \"Teste Notebook\",\n",
    "    \"idade\": 30,\n",
    "    \"peso\": 70.0,\n",
    "    \"altura\": 1.75,\n",
    "    \"objetivo\": \"manter peso\",\n",
    "    \"restricoes\": \"nenhuma\"\n",
    "}\n",
    "\n",
    "response = requests.post(BASE_URL, data=novo_usuario)\n",
    "print(\"Status:\", response.status_code)\n",
    "print(\"Resposta:\", response.json())"
   ]
  },
  {
   "cell_type": "markdown",
   "id": "d19bea83",
   "metadata": {},
   "source": [
    "LISTAR TODOS OS USUÁRIOS:"
   ]
  },
  {
   "cell_type": "code",
   "execution_count": 2,
   "id": "0a87f957",
   "metadata": {},
   "outputs": [
    {
     "ename": "NameError",
     "evalue": "name 'requests' is not defined",
     "output_type": "error",
     "traceback": [
      "\u001b[31m---------------------------------------------------------------------------\u001b[39m",
      "\u001b[31mNameError\u001b[39m                                 Traceback (most recent call last)",
      "\u001b[36mCell\u001b[39m\u001b[36m \u001b[39m\u001b[32mIn[2]\u001b[39m\u001b[32m, line 1\u001b[39m\n\u001b[32m----> \u001b[39m\u001b[32m1\u001b[39m response = \u001b[43mrequests\u001b[49m.get(BASE_URL)\n\u001b[32m      2\u001b[39m \u001b[38;5;28mprint\u001b[39m(\u001b[33m\"\u001b[39m\u001b[33mStatus:\u001b[39m\u001b[33m\"\u001b[39m, response.status_code)\n\u001b[32m      3\u001b[39m usuarios = response.json()\n",
      "\u001b[31mNameError\u001b[39m: name 'requests' is not defined"
     ]
    }
   ],
   "source": [
    "response = requests.get(BASE_URL)\n",
    "print(\"Status:\", response.status_code)\n",
    "usuarios = response.json()\n",
    "print(json.dumps(usuarios, indent=2))"
   ]
  },
  {
   "cell_type": "markdown",
   "id": "91b15d3f",
   "metadata": {},
   "source": [
    "OBTER USUÁRIO POR ID:"
   ]
  },
  {
   "cell_type": "code",
   "execution_count": 7,
   "id": "a6643c55",
   "metadata": {},
   "outputs": [
    {
     "name": "stdout",
     "output_type": "stream",
     "text": [
      "Status: 200\n",
      "Usuário: {'altura': 1.75, 'id': 3, 'idade': 30, 'nome': 'Teste Notebook', 'objetivo': 'manter peso', 'peso': 70.0, 'restricoes': 'nenhuma'}\n"
     ]
    }
   ],
   "source": [
    "usuario_id = usuarios[-1]['id']  # pega o último criado\n",
    "response = requests.get(f\"{BASE_URL}/{usuario_id}\")\n",
    "print(\"Status:\", response.status_code)\n",
    "print(\"Usuário:\", response.json())"
   ]
  },
  {
   "cell_type": "markdown",
   "id": "19705d63",
   "metadata": {},
   "source": [
    "ATUALIZAR USUÁRIO"
   ]
  },
  {
   "cell_type": "code",
   "execution_count": 8,
   "id": "0cf589fb",
   "metadata": {},
   "outputs": [
    {
     "name": "stdout",
     "output_type": "stream",
     "text": [
      "Status: 200\n",
      "Resposta: {'altura': 1.76, 'id': 3, 'idade': 35, 'nome': 'Teste Atualizado', 'objetivo': 'ganhar massa muscular', 'peso': 72.0, 'restricoes': 'lactose'}\n"
     ]
    }
   ],
   "source": [
    "dados_atualizados = {\n",
    "    \"nome\": \"Teste Atualizado\",\n",
    "    \"idade\": 35,\n",
    "    \"peso\": 72.0,\n",
    "    \"altura\": 1.76,\n",
    "    \"objetivo\": \"ganhar massa muscular\",\n",
    "    \"restricoes\": \"lactose\"\n",
    "}\n",
    "\n",
    "response = requests.put(f\"{BASE_URL}/{usuario_id}\", data=dados_atualizados)\n",
    "print(\"Status:\", response.status_code)\n",
    "print(\"Resposta:\", response.json())"
   ]
  },
  {
   "cell_type": "markdown",
   "id": "ddb7d222",
   "metadata": {},
   "source": [
    "DELETAR USUÁRIO:"
   ]
  },
  {
   "cell_type": "code",
   "execution_count": 9,
   "id": "77a8c907",
   "metadata": {},
   "outputs": [
    {
     "name": "stdout",
     "output_type": "stream",
     "text": [
      "Status: 204\n",
      "Usuário deletado com sucesso!\n"
     ]
    }
   ],
   "source": [
    "response = requests.delete(f\"{BASE_URL}/{usuario_id}\")\n",
    "print(\"Status:\", response.status_code)\n",
    "print(\"Usuário deletado com sucesso!\" if response.status_code == 204 else response.text)"
   ]
  }
 ],
 "metadata": {
  "kernelspec": {
   "display_name": "Python 3",
   "language": "python",
   "name": "python3"
  },
  "language_info": {
   "codemirror_mode": {
    "name": "ipython",
    "version": 3
   },
   "file_extension": ".py",
   "mimetype": "text/x-python",
   "name": "python",
   "nbconvert_exporter": "python",
   "pygments_lexer": "ipython3",
   "version": "3.13.2"
  }
 },
 "nbformat": 4,
 "nbformat_minor": 5
}
