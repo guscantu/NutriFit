{
 "cells": [
  {
   "cell_type": "markdown",
   "id": "db4c5f4d",
   "metadata": {},
   "source": [
    "Exemplo de uso da API da tabelas Refeiição Personalizada:\n"
   ]
  },
  {
   "cell_type": "markdown",
   "id": "4b7432e8",
   "metadata": {},
   "source": [
    "Este notebook demonstra o funcionamento da API de Refeição Personalizada do sistema NutriFit."
   ]
  },
  {
   "cell_type": "code",
   "execution_count": 1,
   "id": "2e199c30",
   "metadata": {},
   "outputs": [],
   "source": [
    "import requests\n",
    "from pprint import pprint"
   ]
  },
  {
   "cell_type": "code",
   "execution_count": 2,
   "id": "a0ab7931",
   "metadata": {},
   "outputs": [],
   "source": [
    "BASE_URL = \"http://localhost:5000/api\"\n"
   ]
  },
  {
   "cell_type": "markdown",
   "id": "7c3eb34c",
   "metadata": {},
   "source": [
    "Listar todas as Refeições Personalizadas:"
   ]
  },
  {
   "cell_type": "code",
   "execution_count": 3,
   "id": "595229d1",
   "metadata": {},
   "outputs": [
    {
     "name": "stdout",
     "output_type": "stream",
     "text": [
      "Status: 200\n",
      "[]\n"
     ]
    }
   ],
   "source": [
    "response = requests.get(f\"{BASE_URL}/refeicoes_personalizadas\")\n",
    "print(\"Status:\", response.status_code)\n",
    "try:\n",
    "    pprint(response.json())\n",
    "except Exception as e:\n",
    "    print(\"Erro ao converter para JSON:\", e)\n",
    "    print(\"Resposta:\", response.text)"
   ]
  },
  {
   "cell_type": "markdown",
   "id": "a6de961b",
   "metadata": {},
   "source": [
    "Criar uma Refeição Personalizada:"
   ]
  },
  {
   "cell_type": "code",
   "execution_count": 4,
   "id": "7b2275b5",
   "metadata": {},
   "outputs": [
    {
     "name": "stdout",
     "output_type": "stream",
     "text": [
      "Status: 201\n",
      "{'alimentos': 'Arroz integral, peito de frango grelhado, legumes cozidos',\n",
      " 'dieta_personalizada_id': 2,\n",
      " 'id': 1,\n",
      " 'tipo': 'almoço'}\n"
     ]
    }
   ],
   "source": [
    "nova_refeicao = {\n",
    "    \"dieta_personalizada_id\": 2,  # substitua por um ID real existente\n",
    "    \"tipo\": \"almoço\",\n",
    "    \"alimentos\": \"Arroz integral, peito de frango grelhado, legumes cozidos\"\n",
    "}\n",
    "\n",
    "response = requests.post(f\"{BASE_URL}/refeicoes_personalizadas\", data=nova_refeicao)\n",
    "print(\"Status:\", response.status_code)\n",
    "try:\n",
    "    pprint(response.json())\n",
    "except Exception as e:\n",
    "    print(\"Erro ao converter para JSON:\", e)\n",
    "    print(\"Resposta:\", response.text)\n"
   ]
  },
  {
   "cell_type": "markdown",
   "id": "fe7caf9d",
   "metadata": {},
   "source": [
    "Buscar uma Refeição Personalizada por ID:"
   ]
  },
  {
   "cell_type": "code",
   "execution_count": 5,
   "id": "1bd2ebc2",
   "metadata": {},
   "outputs": [
    {
     "name": "stdout",
     "output_type": "stream",
     "text": [
      "Status: 200\n",
      "{'alimentos': 'Arroz integral, peito de frango grelhado, legumes cozidos',\n",
      " 'dieta_personalizada_id': 2,\n",
      " 'id': 1,\n",
      " 'tipo': 'almoço'}\n"
     ]
    }
   ],
   "source": [
    "refeicao_id = 1  # substitua pelo ID correto\n",
    "response = requests.get(f\"{BASE_URL}/refeicoes_personalizadas/{refeicao_id}\")\n",
    "print(\"Status:\", response.status_code)\n",
    "try:\n",
    "    pprint(response.json())\n",
    "except Exception as e:\n",
    "    print(\"Erro ao converter para JSON:\", e)\n",
    "    print(\"Resposta:\", response.text)"
   ]
  },
  {
   "cell_type": "markdown",
   "id": "15097b8a",
   "metadata": {},
   "source": [
    "Atualizar uma Refeição Personalizada:"
   ]
  },
  {
   "cell_type": "code",
   "execution_count": 7,
   "id": "7ae95a8f",
   "metadata": {},
   "outputs": [
    {
     "name": "stdout",
     "output_type": "stream",
     "text": [
      "Status: 200\n",
      "{'alimentos': 'Sopa de legumes com frango desfiado',\n",
      " 'dieta_personalizada_id': 2,\n",
      " 'id': 1,\n",
      " 'tipo': 'jantar'}\n"
     ]
    }
   ],
   "source": [
    "atualizacao = {\n",
    "    \"dieta_personalizada_id\": 2,\n",
    "    \"tipo\": \"jantar\",\n",
    "    \"alimentos\": \"Sopa de legumes com frango desfiado\"\n",
    "}\n",
    "\n",
    "response = requests.put(f\"{BASE_URL}/refeicoes_personalizadas/{refeicao_id}\", data=atualizacao)\n",
    "print(\"Status:\", response.status_code)\n",
    "try:\n",
    "    pprint(response.json())\n",
    "except Exception as e:\n",
    "    print(\"Erro ao converter para JSON:\", e)\n",
    "    print(\"Resposta:\", response.text)"
   ]
  },
  {
   "cell_type": "markdown",
   "id": "76757b98",
   "metadata": {},
   "source": [
    "Deletar uma Refeição Personalizada:"
   ]
  },
  {
   "cell_type": "code",
   "execution_count": 8,
   "id": "d790320c",
   "metadata": {},
   "outputs": [
    {
     "name": "stdout",
     "output_type": "stream",
     "text": [
      "Status: 204\n",
      "Resposta: \n"
     ]
    }
   ],
   "source": [
    "response = requests.delete(f\"{BASE_URL}/refeicoes_personalizadas/{refeicao_id}\")\n",
    "print(\"Status:\", response.status_code)\n",
    "print(\"Resposta:\", response.text)\n"
   ]
  }
 ],
 "metadata": {
  "kernelspec": {
   "display_name": "Python 3",
   "language": "python",
   "name": "python3"
  },
  "language_info": {
   "codemirror_mode": {
    "name": "ipython",
    "version": 3
   },
   "file_extension": ".py",
   "mimetype": "text/x-python",
   "name": "python",
   "nbconvert_exporter": "python",
   "pygments_lexer": "ipython3",
   "version": "3.13.2"
  }
 },
 "nbformat": 4,
 "nbformat_minor": 5
}
