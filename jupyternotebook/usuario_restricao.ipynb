{
 "cells": [
  {
   "cell_type": "markdown",
   "id": "3c38998c",
   "metadata": {},
   "source": [
    "Exemplo de uso da API da tabela Usuario Restrição:\n"
   ]
  },
  {
   "cell_type": "markdown",
   "id": "abee6f2e",
   "metadata": {},
   "source": [
    "Este notebook demonstra o funcionamento da API de Usuário Restrição do sistema NutriFit."
   ]
  },
  {
   "cell_type": "code",
   "execution_count": 6,
   "id": "3feca2bb",
   "metadata": {},
   "outputs": [],
   "source": [
    "import requests\n",
    "from pprint import pprint\n"
   ]
  },
  {
   "cell_type": "code",
   "execution_count": 9,
   "id": "6476c1de",
   "metadata": {},
   "outputs": [],
   "source": [
    "BASE_URL = \"http://localhost:5000/api\"\n",
    "USUARIO_ID = 4"
   ]
  },
  {
   "cell_type": "markdown",
   "id": "01d13ba0",
   "metadata": {},
   "source": [
    "Adicionar Restrição ao Usuário:"
   ]
  },
  {
   "cell_type": "code",
   "execution_count": 19,
   "id": "e8c2ae3f",
   "metadata": {},
   "outputs": [
    {
     "name": "stdout",
     "output_type": "stream",
     "text": [
      "➕ POST /usuario_restricoes\n",
      "Status: 201\n",
      "{'message': 'Restrição adicionada ao usuário.'}\n"
     ]
    }
   ],
   "source": [
    "restricao_id = 2  # Altere conforme necessário\n",
    "\n",
    "print(\"➕ POST /usuario_restricoes\")\n",
    "payload = {\n",
    "    \"usuario_id\": USUARIO_ID,\n",
    "    \"restricao_id\": restricao_id\n",
    "}\n",
    "response = requests.post(f\"{BASE_URL}/usuario_restricoes\", json=payload)\n",
    "print(\"Status:\", response.status_code)\n",
    "try:\n",
    "    pprint(response.json())\n",
    "except Exception as e:\n",
    "    print(\"Erro ao converter para JSON:\", e)\n",
    "    print(\"Resposta:\", response.text)\n"
   ]
  },
  {
   "cell_type": "markdown",
   "id": "10433388",
   "metadata": {},
   "source": [
    "Consultar as Restrições do Usuário:"
   ]
  },
  {
   "cell_type": "code",
   "execution_count": 20,
   "id": "484f1def",
   "metadata": {},
   "outputs": [
    {
     "name": "stdout",
     "output_type": "stream",
     "text": [
      "\n",
      "📥 GET /usuario_restricoes/4\n",
      "Status: 200\n",
      "{'restricoes': [2], 'usuario_id': 4}\n"
     ]
    }
   ],
   "source": [
    "print(f\"\\n📥 GET /usuario_restricoes/{USUARIO_ID}\")\n",
    "response = requests.get(f\"{BASE_URL}/usuario_restricoes/{USUARIO_ID}\")\n",
    "print(\"Status:\", response.status_code)\n",
    "try:\n",
    "    pprint(response.json())\n",
    "except Exception as e:\n",
    "    print(\"Erro ao converter para JSON:\", e)\n",
    "    print(\"Resposta:\", response.text)\n"
   ]
  },
  {
   "cell_type": "markdown",
   "id": "c3811312",
   "metadata": {},
   "source": [
    "Remover a Restrição do Usuário:"
   ]
  },
  {
   "cell_type": "code",
   "execution_count": 16,
   "id": "85f77e3e",
   "metadata": {},
   "outputs": [
    {
     "name": "stdout",
     "output_type": "stream",
     "text": [
      "\n",
      "❌ DELETE /usuario_restricoes\n",
      "Status: 204\n",
      "Restrição removida com sucesso.\n"
     ]
    }
   ],
   "source": [
    "print(f\"\\n❌ DELETE /usuario_restricoes\")\n",
    "payload = {\n",
    "    \"usuario_id\": USUARIO_ID,\n",
    "    \"restricao_id\": restricao_id\n",
    "}\n",
    "response = requests.delete(f\"{BASE_URL}/usuario_restricoes/{USUARIO_ID}/{restricao_id}\")\n",
    "print(\"Status:\", response.status_code)\n",
    "if response.status_code == 204:\n",
    "    print(\"Restrição removida com sucesso.\")\n",
    "else:\n",
    "    try:\n",
    "        print(response.json())\n",
    "    except Exception:\n",
    "        print(response.text)\n"
   ]
  }
 ],
 "metadata": {
  "kernelspec": {
   "display_name": "Python 3",
   "language": "python",
   "name": "python3"
  },
  "language_info": {
   "codemirror_mode": {
    "name": "ipython",
    "version": 3
   },
   "file_extension": ".py",
   "mimetype": "text/x-python",
   "name": "python",
   "nbconvert_exporter": "python",
   "pygments_lexer": "ipython3",
   "version": "3.13.2"
  }
 },
 "nbformat": 4,
 "nbformat_minor": 5
}
