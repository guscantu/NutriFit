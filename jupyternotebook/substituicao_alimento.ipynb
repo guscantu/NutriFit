{
 "cells": [
  {
   "cell_type": "markdown",
   "id": "30afd863",
   "metadata": {},
   "source": [
    "Exemplo de uso da API da tabelas Substituição Alimentar:\n"
   ]
  },
  {
   "cell_type": "markdown",
   "id": "12141c25",
   "metadata": {},
   "source": [
    "Este notebook demonstra o funcionamento da API de Substituição Alimentar do sistema NutriFit."
   ]
  },
  {
   "cell_type": "code",
   "execution_count": 15,
   "id": "c347cbec",
   "metadata": {},
   "outputs": [],
   "source": [
    "import requests\n",
    "from pprint import pprint"
   ]
  },
  {
   "cell_type": "code",
   "execution_count": 16,
   "id": "6e59ca0e",
   "metadata": {},
   "outputs": [],
   "source": [
    "BASE_URL = \"http://localhost:5000/api/substituicoes_alimento\""
   ]
  },
  {
   "cell_type": "markdown",
   "id": "ad89ee04",
   "metadata": {},
   "source": [
    "Criar Substituição Alimentar:"
   ]
  },
  {
   "cell_type": "code",
   "execution_count": 17,
   "id": "c4dccd4a",
   "metadata": {},
   "outputs": [
    {
     "name": "stdout",
     "output_type": "stream",
     "text": [
      "\n",
      "➕ POST /substituicoes_alimento - Criar substituição\n",
      "Status: 201\n",
      "{'alimento_original': 'Leite',\n",
      " 'alimento_substituto': 'Leite de amêndoas',\n",
      " 'id': 1,\n",
      " 'restricao_id': 2}\n"
     ]
    }
   ],
   "source": [
    "print(\"\\n➕ POST /substituicoes_alimento - Criar substituição\")\n",
    "payload = {\n",
    "    \"restricao_id\": 2,  # Coloque um ID válido de restrição alimentar existente no seu banco\n",
    "    \"alimento_original\": \"Leite\",\n",
    "    \"alimento_substituto\": \"Leite de amêndoas\"\n",
    "}\n",
    "response = requests.post(BASE_URL, json=payload)\n",
    "print(\"Status:\", response.status_code)\n",
    "\n",
    "if response.status_code == 201:\n",
    "    substituicao = response.json()\n",
    "    pprint(substituicao)\n",
    "    substituicao_id = substituicao.get(\"id\")\n",
    "else:\n",
    "    print(\"Erro ao criar substituição:\", response.text)\n",
    "    substituicao_id = None"
   ]
  },
  {
   "cell_type": "markdown",
   "id": "4964b1fb",
   "metadata": {},
   "source": [
    "Listar Substituição Alimentar:"
   ]
  },
  {
   "cell_type": "code",
   "execution_count": 18,
   "id": "723cff3a",
   "metadata": {},
   "outputs": [
    {
     "name": "stdout",
     "output_type": "stream",
     "text": [
      "\n",
      "📥 GET /substituicoes_alimento - Listar todas substituições\n",
      "Status: 200\n",
      "[{'alimento_original': 'Leite',\n",
      "  'alimento_substituto': 'Leite de amêndoas',\n",
      "  'id': 1,\n",
      "  'restricao_id': 2}]\n"
     ]
    }
   ],
   "source": [
    "print(\"\\n📥 GET /substituicoes_alimento - Listar todas substituições\")\n",
    "response = requests.get(BASE_URL)\n",
    "print(\"Status:\", response.status_code)\n",
    "try:\n",
    "    pprint(response.json())\n",
    "except Exception as e:\n",
    "    print(\"Erro ao converter para JSON:\", e)\n",
    "    print(\"Resposta:\", response.text)"
   ]
  },
  {
   "cell_type": "markdown",
   "id": "d85ff535",
   "metadata": {},
   "source": [
    "Buscar Substituição Alimentar por ID:"
   ]
  },
  {
   "cell_type": "code",
   "execution_count": 19,
   "id": "e27bf2b6",
   "metadata": {},
   "outputs": [
    {
     "name": "stdout",
     "output_type": "stream",
     "text": [
      "\n",
      "📥 GET /substituicoes_alimento/1 - Buscar substituição\n",
      "Status: 200\n",
      "{'alimento_original': 'Leite',\n",
      " 'alimento_substituto': 'Leite de amêndoas',\n",
      " 'id': 1,\n",
      " 'restricao_id': 2}\n"
     ]
    }
   ],
   "source": [
    "if substituicao_id:\n",
    "    print(f\"\\n📥 GET /substituicoes_alimento/{substituicao_id} - Buscar substituição\")\n",
    "    response = requests.get(f\"{BASE_URL}/{substituicao_id}\")\n",
    "    print(\"Status:\", response.status_code)\n",
    "    try:\n",
    "        pprint(response.json())\n",
    "    except Exception as e:\n",
    "        print(\"Erro ao converter para JSON:\", e)\n",
    "        print(\"Resposta:\", response.text)"
   ]
  },
  {
   "cell_type": "markdown",
   "id": "e9b95fdb",
   "metadata": {},
   "source": [
    "Atualizar Substituição Alimentar:"
   ]
  },
  {
   "cell_type": "code",
   "execution_count": 20,
   "id": "123aa5a9",
   "metadata": {},
   "outputs": [
    {
     "name": "stdout",
     "output_type": "stream",
     "text": [
      "\n",
      "✏️ PUT /substituicoes_alimento/1 - Atualizar substituição\n",
      "Status: 200\n",
      "{'alimento_original': 'Leite Integral',\n",
      " 'alimento_substituto': 'Leite de soja',\n",
      " 'id': 1,\n",
      " 'restricao_id': 2}\n"
     ]
    }
   ],
   "source": [
    "if substituicao_id:\n",
    "    print(f\"\\n✏️ PUT /substituicoes_alimento/{substituicao_id} - Atualizar substituição\")\n",
    "    update_payload = {\n",
    "        \"restricao_id\": 2,  # mantenha ou atualize conforme necessário\n",
    "        \"alimento_original\": \"Leite Integral\",\n",
    "        \"alimento_substituto\": \"Leite de soja\"\n",
    "    }\n",
    "    response = requests.put(f\"{BASE_URL}/{substituicao_id}\", json=update_payload)\n",
    "    print(\"Status:\", response.status_code)\n",
    "    try:\n",
    "        pprint(response.json())\n",
    "    except Exception as e:\n",
    "        print(\"Erro ao converter para JSON:\", e)\n",
    "        print(\"Resposta:\", response.text)"
   ]
  },
  {
   "cell_type": "markdown",
   "id": "59ce0a64",
   "metadata": {},
   "source": [
    "Deletar Substituição Alimentar:"
   ]
  },
  {
   "cell_type": "code",
   "execution_count": 21,
   "id": "7e004289",
   "metadata": {},
   "outputs": [
    {
     "name": "stdout",
     "output_type": "stream",
     "text": [
      "\n",
      "❌ DELETE /substituicoes_alimento/1 - Deletar substituição\n",
      "Status: 204\n",
      "Substituição deletada com sucesso.\n"
     ]
    }
   ],
   "source": [
    "if substituicao_id:\n",
    "    print(f\"\\n❌ DELETE /substituicoes_alimento/{substituicao_id} - Deletar substituição\")\n",
    "    response = requests.delete(f\"{BASE_URL}/{substituicao_id}\")\n",
    "    print(\"Status:\", response.status_code)\n",
    "    if response.status_code == 204:\n",
    "        print(\"Substituição deletada com sucesso.\")\n",
    "    else:\n",
    "        try:\n",
    "            pprint(response.json())\n",
    "        except Exception:\n",
    "            print(response.text)\n"
   ]
  }
 ],
 "metadata": {
  "kernelspec": {
   "display_name": "Python 3",
   "language": "python",
   "name": "python3"
  },
  "language_info": {
   "codemirror_mode": {
    "name": "ipython",
    "version": 3
   },
   "file_extension": ".py",
   "mimetype": "text/x-python",
   "name": "python",
   "nbconvert_exporter": "python",
   "pygments_lexer": "ipython3",
   "version": "3.13.2"
  }
 },
 "nbformat": 4,
 "nbformat_minor": 5
}
