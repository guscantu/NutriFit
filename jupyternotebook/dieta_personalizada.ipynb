{
 "cells": [
  {
   "cell_type": "markdown",
   "id": "22153b08",
   "metadata": {},
   "source": [
    "Exemplo de uso da API da tabelas Dieta Personalizada:\n"
   ]
  },
  {
   "cell_type": "markdown",
   "id": "e91a7b18",
   "metadata": {},
   "source": [
    "Este notebook demonstra o funcionamento da API de Dieta Personalizada do sistema NutriFit."
   ]
  },
  {
   "cell_type": "code",
   "execution_count": 1,
   "id": "7359792e",
   "metadata": {},
   "outputs": [],
   "source": [
    "import requests\n",
    "from pprint import pprint"
   ]
  },
  {
   "cell_type": "code",
   "execution_count": 2,
   "id": "81e3e807",
   "metadata": {},
   "outputs": [],
   "source": [
    "BASE_URL = \"http://localhost:5000/api\""
   ]
  },
  {
   "cell_type": "markdown",
   "id": "b8802e5c",
   "metadata": {},
   "source": [
    "Criar uma Dieta Personalizada:"
   ]
  },
  {
   "cell_type": "code",
   "execution_count": 4,
   "id": "0c3fae4f",
   "metadata": {},
   "outputs": [
    {
     "name": "stdout",
     "output_type": "stream",
     "text": [
      "Status: 201\n",
      "{'descricao': 'Dieta focada em redução de peso com alimentos sem lactose',\n",
      " 'faixa_altura_id': 2,\n",
      " 'faixa_idade_id': 2,\n",
      " 'faixa_peso_id': 6,\n",
      " 'id': 2,\n",
      " 'objetivo': 'perder peso',\n",
      " 'restricao': 'sem lactose'}\n"
     ]
    }
   ],
   "source": [
    "dados = {\n",
    "    \"faixa_peso_id\": 6,#Mudar para um ID que exista no banco de dados\n",
    "    \"faixa_altura_id\": 2,# Mudar para um ID que exista no banco de dados\n",
    "    \"faixa_idade_id\": 2,# Mudar para um ID que exista no banco de dados\n",
    "    \"objetivo\": \"perder peso\",\n",
    "    \"restricao\": \"sem lactose\",\n",
    "    \"descricao\": \"Dieta focada em redução de peso com alimentos sem lactose\"\n",
    "}\n",
    "\n",
    "response = requests.post(f\"{BASE_URL}/dietas_personalizadas\", data=dados)\n",
    "print(\"Status:\", response.status_code)\n",
    "try:\n",
    "    pprint(response.json())\n",
    "except Exception as e:\n",
    "    print(\"Erro ao converter para JSON:\", e)\n",
    "    print(\"Resposta:\", response.text)\n"
   ]
  },
  {
   "cell_type": "markdown",
   "id": "72aa54d3",
   "metadata": {},
   "source": [
    "Listar todas as Dietas Personalizadas:"
   ]
  },
  {
   "cell_type": "code",
   "execution_count": 3,
   "id": "8f492fcf",
   "metadata": {},
   "outputs": [
    {
     "name": "stdout",
     "output_type": "stream",
     "text": [
      "Status: 200\n",
      "[]\n"
     ]
    }
   ],
   "source": [
    "response = requests.get(f\"{BASE_URL}/dietas_personalizadas\")\n",
    "print(\"Status:\", response.status_code)\n",
    "try:\n",
    "    pprint(response.json())\n",
    "except Exception as e:\n",
    "    print(\"Erro ao converter para JSON:\", e)\n",
    "    print(\"Resposta:\", response.text)\n"
   ]
  },
  {
   "cell_type": "markdown",
   "id": "140f5f3d",
   "metadata": {},
   "source": [
    "Buscar uma Dieta Personalizada Específica:"
   ]
  },
  {
   "cell_type": "code",
   "execution_count": 5,
   "id": "9d679a49",
   "metadata": {},
   "outputs": [
    {
     "name": "stdout",
     "output_type": "stream",
     "text": [
      "Status: 200\n",
      "{'descricao': 'Dieta focada em redução de peso com alimentos sem lactose',\n",
      " 'faixa_altura_id': 2,\n",
      " 'faixa_idade_id': 2,\n",
      " 'faixa_peso_id': 6,\n",
      " 'id': 1,\n",
      " 'objetivo': 'perder peso',\n",
      " 'restricao': 'sem lactose'}\n"
     ]
    }
   ],
   "source": [
    "dieta_id = 1  # altere para o ID real desejado\n",
    "response = requests.get(f\"{BASE_URL}/dietas_personalizadas/{dieta_id}\")\n",
    "print(\"Status:\", response.status_code)\n",
    "try:\n",
    "    pprint(response.json())\n",
    "except Exception as e:\n",
    "    print(\"Erro ao converter para JSON:\", e)\n",
    "    print(\"Resposta:\", response.text)\n"
   ]
  },
  {
   "cell_type": "markdown",
   "id": "3d594f18",
   "metadata": {},
   "source": [
    "Atualizar uma Dieta Personalizada:"
   ]
  },
  {
   "cell_type": "code",
   "execution_count": null,
   "id": "97cf53bc",
   "metadata": {},
   "outputs": [
    {
     "name": "stdout",
     "output_type": "stream",
     "text": [
      "Status: 200\n",
      "{'descricao': 'Versão atualizada da dieta.',\n",
      " 'faixa_altura_id': 2,\n",
      " 'faixa_idade_id': 2,\n",
      " 'faixa_peso_id': 6,\n",
      " 'id': 1,\n",
      " 'objetivo': 'manter peso',\n",
      " 'restricao': 'sem lactose'}\n"
     ]
    }
   ],
   "source": [
    "dieta_id = 1  # altere para o ID real\n",
    "atualizacao = {\n",
    "    \"faixa_peso_id\": 6,# Mudar para um ID que exista no banco de dados\n",
    "    \"faixa_altura_id\": 2,# Mudar para um ID que exista no banco de dados\n",
    "    \"faixa_idade_id\": 2,# Mudar para um ID que exista no banco de dados\n",
    "    \"objetivo\": \"manter peso\",\n",
    "    \"restricao\": \"sem lactose\",\n",
    "    \"descricao\": \"Versão atualizada da dieta.\"\n",
    "}\n",
    "\n",
    "response = requests.put(f\"{BASE_URL}/dietas_personalizadas/{dieta_id}\", data=atualizacao)\n",
    "print(\"Status:\", response.status_code)\n",
    "try:\n",
    "    pprint(response.json())\n",
    "except Exception as e:\n",
    "    print(\"Erro ao converter para JSON:\", e)\n",
    "    print(\"Resposta:\", response.text)\n"
   ]
  },
  {
   "cell_type": "markdown",
   "id": "3efdbde1",
   "metadata": {},
   "source": [
    "Deletar uma Dieta Personalizada:"
   ]
  },
  {
   "cell_type": "code",
   "execution_count": 7,
   "id": "4faa1f6e",
   "metadata": {},
   "outputs": [
    {
     "name": "stdout",
     "output_type": "stream",
     "text": [
      "Status: 204\n",
      "Resposta: \n"
     ]
    }
   ],
   "source": [
    "dieta_id = 1  # altere para o ID a deletar\n",
    "response = requests.delete(f\"{BASE_URL}/dietas_personalizadas/{dieta_id}\")\n",
    "print(\"Status:\", response.status_code)\n",
    "print(\"Resposta:\", response.text)\n"
   ]
  }
 ],
 "metadata": {
  "kernelspec": {
   "display_name": "Python 3",
   "language": "python",
   "name": "python3"
  },
  "language_info": {
   "codemirror_mode": {
    "name": "ipython",
    "version": 3
   },
   "file_extension": ".py",
   "mimetype": "text/x-python",
   "name": "python",
   "nbconvert_exporter": "python",
   "pygments_lexer": "ipython3",
   "version": "3.13.2"
  }
 },
 "nbformat": 4,
 "nbformat_minor": 5
}
