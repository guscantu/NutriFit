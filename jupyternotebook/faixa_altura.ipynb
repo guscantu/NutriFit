{
 "cells": [
  {
   "cell_type": "markdown",
   "id": "66642f6c",
   "metadata": {},
   "source": [
    "Exemplo de uso da API da tabelas Faixa Altura:\n"
   ]
  },
  {
   "cell_type": "markdown",
   "id": "9dc4ace6",
   "metadata": {},
   "source": [
    "Este notebook demonstra o funcionamento da API de Faixa Altura do sistema NutriFit.\n"
   ]
  },
  {
   "cell_type": "code",
   "execution_count": 1,
   "id": "699e3a30",
   "metadata": {},
   "outputs": [],
   "source": [
    "import requests\n",
    "from pprint import pprint"
   ]
  },
  {
   "cell_type": "code",
   "execution_count": 2,
   "id": "082b836c",
   "metadata": {},
   "outputs": [],
   "source": [
    "BASE_URL = \"http://localhost:5000/api/faixas_altura\""
   ]
  },
  {
   "cell_type": "markdown",
   "id": "3785b0f9",
   "metadata": {},
   "source": [
    "Criar uma Faixa de Altura:"
   ]
  },
  {
   "cell_type": "code",
   "execution_count": 4,
   "id": "2b1603e7",
   "metadata": {},
   "outputs": [
    {
     "name": "stdout",
     "output_type": "stream",
     "text": [
      "Status: 201\n",
      "{'faixa_max': 1.75, 'faixa_min': 1.6, 'id': 2}\n"
     ]
    }
   ],
   "source": [
    "payload = {\n",
    "    \"faixa_min\": 1.60,\n",
    "    \"faixa_max\": 1.75\n",
    "}\n",
    "response = requests.post(f\"{BASE_URL}\", json=payload)  # Note: json=payload\n",
    "print(\"Status:\", response.status_code)\n",
    "\n",
    "if response.status_code == 201:\n",
    "    faixa = response.json()\n",
    "    pprint(faixa)\n",
    "    faixa_id = faixa.get(\"id\")\n",
    "else:\n",
    "    print(\"Erro ao criar faixa:\", response.text)\n",
    "    faixa_id = None\n"
   ]
  },
  {
   "cell_type": "markdown",
   "id": "55f5d8d7",
   "metadata": {},
   "source": [
    "Listar Faixas de Altura:"
   ]
  },
  {
   "cell_type": "code",
   "execution_count": 5,
   "id": "4d1e990f",
   "metadata": {},
   "outputs": [
    {
     "name": "stdout",
     "output_type": "stream",
     "text": [
      "Status: 200\n",
      "[{'faixa_max': 1.75, 'faixa_min': 1.6, 'id': 2}]\n"
     ]
    }
   ],
   "source": [
    "response = requests.get(f\"{BASE_URL}\")\n",
    "print(\"Status:\", response.status_code)\n",
    "try:\n",
    "    pprint(response.json())\n",
    "except Exception as e:\n",
    "    print(\"Erro ao converter para JSON:\", e)\n",
    "    print(\"Resposta:\", response.text)"
   ]
  },
  {
   "cell_type": "markdown",
   "id": "109bd456",
   "metadata": {},
   "source": [
    "Buscar Faixa por ID:"
   ]
  },
  {
   "cell_type": "code",
   "execution_count": 5,
   "id": "7a2d9e23",
   "metadata": {},
   "outputs": [
    {
     "name": "stdout",
     "output_type": "stream",
     "text": [
      "Status: 200\n",
      "{'faixa_max': 1.75, 'faixa_min': 1.6, 'id': 1}\n"
     ]
    }
   ],
   "source": [
    "if faixa_id:\n",
    "    response = requests.get(f\"{BASE_URL}/{faixa_id}\")\n",
    "    print(\"Status:\", response.status_code)\n",
    "    try:\n",
    "        pprint(response.json())\n",
    "    except Exception as e:\n",
    "        print(\"Erro ao converter para JSON:\", e)\n",
    "        print(\"Resposta:\", response.text)"
   ]
  },
  {
   "cell_type": "markdown",
   "id": "0418b841",
   "metadata": {},
   "source": [
    "Atualizar Faixa:"
   ]
  },
  {
   "cell_type": "code",
   "execution_count": 6,
   "id": "6817d6eb",
   "metadata": {},
   "outputs": [
    {
     "name": "stdout",
     "output_type": "stream",
     "text": [
      "Status: 200\n",
      "{'faixa_max': 1.8, 'faixa_min': 1.65, 'id': 1}\n"
     ]
    }
   ],
   "source": [
    "if faixa_id:\n",
    "    update_payload = {\n",
    "        \"faixa_min\": 1.65,\n",
    "        \"faixa_max\": 1.80\n",
    "    }\n",
    "    response = requests.put(f\"{BASE_URL}/{faixa_id}\", json=update_payload)\n",
    "    print(\"Status:\", response.status_code)\n",
    "    try:\n",
    "        pprint(response.json())\n",
    "    except Exception as e:\n",
    "        print(\"Erro ao converter para JSON:\", e)\n",
    "        print(\"Resposta:\", response.text)"
   ]
  },
  {
   "cell_type": "markdown",
   "id": "8a011a9d",
   "metadata": {},
   "source": [
    "Deletar Faixa:"
   ]
  },
  {
   "cell_type": "code",
   "execution_count": 7,
   "id": "49c0dde0",
   "metadata": {},
   "outputs": [
    {
     "name": "stdout",
     "output_type": "stream",
     "text": [
      "Status: 204\n",
      "Faixa deletada com sucesso.\n"
     ]
    }
   ],
   "source": [
    "if faixa_id:\n",
    "    response = requests.delete(f\"{BASE_URL}/{faixa_id}\")\n",
    "    print(\"Status:\", response.status_code)\n",
    "    if response.status_code == 204:\n",
    "        print(\"Faixa deletada com sucesso.\")\n",
    "    else:\n",
    "        try:\n",
    "            pprint(response.json())\n",
    "        except Exception:\n",
    "            print(response.text)"
   ]
  }
 ],
 "metadata": {
  "kernelspec": {
   "display_name": "Python 3",
   "language": "python",
   "name": "python3"
  },
  "language_info": {
   "codemirror_mode": {
    "name": "ipython",
    "version": 3
   },
   "file_extension": ".py",
   "mimetype": "text/x-python",
   "name": "python",
   "nbconvert_exporter": "python",
   "pygments_lexer": "ipython3",
   "version": "3.13.2"
  }
 },
 "nbformat": 4,
 "nbformat_minor": 5
}
