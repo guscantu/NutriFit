{
 "cells": [
  {
   "cell_type": "markdown",
   "id": "aa4f732a",
   "metadata": {},
   "source": [
    "Exemplo de uso da API da tabela Restrição Alimentar:\n"
   ]
  },
  {
   "cell_type": "markdown",
   "id": "39e156ae",
   "metadata": {},
   "source": [
    "Este notebook demonstra o funcionamento da API de Restrição Alimentar do sistema NutriFit."
   ]
  },
  {
   "cell_type": "code",
   "execution_count": 1,
   "id": "964fc83b",
   "metadata": {},
   "outputs": [],
   "source": [
    "import requests\n",
    "from pprint import pprint"
   ]
  },
  {
   "cell_type": "code",
   "execution_count": 2,
   "id": "41a4c8ba",
   "metadata": {},
   "outputs": [],
   "source": [
    "BASE_URL = \"http://localhost:5000/api\"\n"
   ]
  },
  {
   "cell_type": "markdown",
   "id": "d67722fc",
   "metadata": {},
   "source": [
    "Listar todas as Restrições:"
   ]
  },
  {
   "cell_type": "code",
   "execution_count": 3,
   "id": "22056ad7",
   "metadata": {},
   "outputs": [
    {
     "name": "stdout",
     "output_type": "stream",
     "text": [
      "📥 GET /restricoes\n",
      "Status: 200\n",
      "[{'id': 2, 'nome': 'Sem glúten'}]\n"
     ]
    }
   ],
   "source": [
    "print(\"📥 GET /restricoes\")\n",
    "response = requests.get(f\"{BASE_URL}/restricoes\")\n",
    "print(\"Status:\", response.status_code)\n",
    "try:\n",
    "    pprint(response.json())\n",
    "except Exception as e:\n",
    "    print(\"Erro ao converter para JSON:\", e)\n",
    "    print(\"Resposta:\", response.text)\n"
   ]
  },
  {
   "cell_type": "markdown",
   "id": "b1ddd996",
   "metadata": {},
   "source": [
    "Criar Restrição Alimentar:"
   ]
  },
  {
   "cell_type": "code",
   "execution_count": 10,
   "id": "40d34150",
   "metadata": {},
   "outputs": [
    {
     "name": "stdout",
     "output_type": "stream",
     "text": [
      "\n",
      "➕ POST /restricoes\n",
      "Status: 201\n",
      "{'id': 2, 'nome': 'Sem glúten'}\n"
     ]
    }
   ],
   "source": [
    "print(\"\\n➕ POST /restricoes\")\n",
    "payload = {\n",
    "    \"nome\": \"Sem glúten\"\n",
    "}\n",
    "response = requests.post(f\"{BASE_URL}/restricoes\", data=payload)\n",
    "print(\"Status:\", response.status_code)\n",
    "try:\n",
    "    nova = response.json()\n",
    "    pprint(nova)\n",
    "    restricao_id = nova[\"id\"]\n",
    "except Exception as e:\n",
    "    print(\"Erro ao converter para JSON:\", e)\n",
    "    restricao_id = None\n"
   ]
  },
  {
   "cell_type": "markdown",
   "id": "220403eb",
   "metadata": {},
   "source": [
    "Atualizar Restrição:"
   ]
  },
  {
   "cell_type": "code",
   "execution_count": 6,
   "id": "e13afce5",
   "metadata": {},
   "outputs": [
    {
     "name": "stdout",
     "output_type": "stream",
     "text": [
      "\n",
      "🔄 PUT /restricoes/1\n",
      "Status: 200\n",
      "{'id': 1, 'nome': 'Sem lactose'}\n"
     ]
    }
   ],
   "source": [
    "if restricao_id:\n",
    "    print(f\"\\n🔄 PUT /restricoes/{restricao_id}\")\n",
    "    payload = {\n",
    "        \"nome\": \"Sem lactose\"\n",
    "    }\n",
    "    response = requests.put(f\"{BASE_URL}/restricoes/{restricao_id}\", data=payload)\n",
    "    print(\"Status:\", response.status_code)\n",
    "    try:\n",
    "        pprint(response.json())\n",
    "    except Exception as e:\n",
    "        print(\"Erro ao converter para JSON:\", e)\n",
    "        print(\"Resposta:\", response.text)\n"
   ]
  },
  {
   "cell_type": "markdown",
   "id": "ee08bd86",
   "metadata": {},
   "source": [
    "Buscar Restrição pelo ID:"
   ]
  },
  {
   "cell_type": "code",
   "execution_count": 7,
   "id": "91219df5",
   "metadata": {},
   "outputs": [
    {
     "name": "stdout",
     "output_type": "stream",
     "text": [
      "\n",
      "🔎 GET /restricoes/1\n",
      "Status: 200\n",
      "{'id': 1, 'nome': 'Sem lactose'}\n"
     ]
    }
   ],
   "source": [
    "if restricao_id:\n",
    "    print(f\"\\n🔎 GET /restricoes/{restricao_id}\")\n",
    "    response = requests.get(f\"{BASE_URL}/restricoes/{restricao_id}\")\n",
    "    print(\"Status:\", response.status_code)\n",
    "    try:\n",
    "        pprint(response.json())\n",
    "    except Exception as e:\n",
    "        print(\"Erro ao converter para JSON:\", e)\n",
    "        print(\"Resposta:\", response.text)\n"
   ]
  },
  {
   "cell_type": "markdown",
   "id": "936689ab",
   "metadata": {},
   "source": [
    "Deletar Restrição:"
   ]
  },
  {
   "cell_type": "code",
   "execution_count": 8,
   "id": "41765462",
   "metadata": {},
   "outputs": [
    {
     "name": "stdout",
     "output_type": "stream",
     "text": [
      "\n",
      "❌ DELETE /restricoes/1\n",
      "Status: 204\n",
      "Resposta: \n"
     ]
    }
   ],
   "source": [
    "if restricao_id:\n",
    "    print(f\"\\n❌ DELETE /restricoes/{restricao_id}\")\n",
    "    response = requests.delete(f\"{BASE_URL}/restricoes/{restricao_id}\")\n",
    "    print(\"Status:\", response.status_code)\n",
    "    print(\"Resposta:\", response.text)\n"
   ]
  }
 ],
 "metadata": {
  "kernelspec": {
   "display_name": "Python 3",
   "language": "python",
   "name": "python3"
  },
  "language_info": {
   "codemirror_mode": {
    "name": "ipython",
    "version": 3
   },
   "file_extension": ".py",
   "mimetype": "text/x-python",
   "name": "python",
   "nbconvert_exporter": "python",
   "pygments_lexer": "ipython3",
   "version": "3.13.2"
  }
 },
 "nbformat": 4,
 "nbformat_minor": 5
}
