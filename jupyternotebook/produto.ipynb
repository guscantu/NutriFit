{
 "cells": [
  {
   "cell_type": "markdown",
   "id": "ecd25ff8",
   "metadata": {},
   "source": [
    "Exemplo de uso da API da tabelas Produto:\n"
   ]
  },
  {
   "cell_type": "markdown",
   "id": "4cf88c28",
   "metadata": {},
   "source": [
    "Este notebook demonstra o funcionamento da API de Produto do sistema NutriFit."
   ]
  },
  {
   "cell_type": "code",
   "execution_count": 1,
   "id": "9d4f4622",
   "metadata": {},
   "outputs": [],
   "source": [
    "import requests"
   ]
  },
  {
   "cell_type": "code",
   "execution_count": 5,
   "id": "969a582f",
   "metadata": {},
   "outputs": [],
   "source": [
    "BASE_URL = \"http://localhost:5000/api/produtos\""
   ]
  },
  {
   "cell_type": "markdown",
   "id": "6109e1af",
   "metadata": {},
   "source": [
    "Listar Produtos:"
   ]
  },
  {
   "cell_type": "code",
   "execution_count": 13,
   "id": "ad569f06",
   "metadata": {},
   "outputs": [
    {
     "name": "stdout",
     "output_type": "stream",
     "text": [
      "📄 GET /produtos\n",
      "Status: 200\n",
      "Resposta: []\n"
     ]
    }
   ],
   "source": [
    "res = requests.get(BASE_URL)\n",
    "print(\"📄 GET /produtos\")\n",
    "print(\"Status:\", res.status_code)\n",
    "print(\"Resposta:\", res.json())\n"
   ]
  },
  {
   "cell_type": "markdown",
   "id": "62dca3c9",
   "metadata": {},
   "source": [
    "Criar Produto:"
   ]
  },
  {
   "cell_type": "code",
   "execution_count": 7,
   "id": "91ec319d",
   "metadata": {},
   "outputs": [
    {
     "name": "stdout",
     "output_type": "stream",
     "text": [
      "\n",
      "➕ POST /produtos - Criar\n",
      "Status: 201\n",
      "Resposta: {'descricao': 'Suplemento de proteína em pó', 'id': 1, 'link_compra': 'https://loja.exemplo.com/whey', 'nome': 'Whey Protein', 'preco': 89.9}\n"
     ]
    }
   ],
   "source": [
    "novo_produto = {\n",
    "    \"nome\": \"Whey Protein\",\n",
    "    \"descricao\": \"Suplemento de proteína em pó\",\n",
    "    \"preco\": 89.90,\n",
    "    \"link_compra\": \"https://loja.exemplo.com/whey\"\n",
    "}\n",
    "res = requests.post(BASE_URL, data=novo_produto)\n",
    "print(\"\\n➕ POST /produtos - Criar\")\n",
    "print(\"Status:\", res.status_code)\n",
    "try:\n",
    "    print(\"Resposta:\", res.json())\n",
    "except Exception as e:\n",
    "    print(\"Erro ao criar produto:\", res.text)"
   ]
  },
  {
   "cell_type": "markdown",
   "id": "bac41ef7",
   "metadata": {},
   "source": [
    "Buscar Produto por ID:"
   ]
  },
  {
   "cell_type": "code",
   "execution_count": 10,
   "id": "7dd2f142",
   "metadata": {},
   "outputs": [
    {
     "name": "stdout",
     "output_type": "stream",
     "text": [
      "\n",
      "🔍 GET /produtos/1\n",
      "Status: 200\n",
      "Resposta: {'descricao': 'Suplemento de proteína em pó', 'id': 1, 'link_compra': 'https://loja.exemplo.com/whey', 'nome': 'Whey Protein', 'preco': 89.9}\n"
     ]
    }
   ],
   "source": [
    "produto_id = 1  # ou outro ID existente\n",
    "res = requests.get(f\"{BASE_URL}/{produto_id}\")\n",
    "print(f\"\\n🔍 GET /produtos/{produto_id}\")\n",
    "print(\"Status:\", res.status_code)\n",
    "\n",
    "try:\n",
    "    print(\"Resposta:\", res.json())\n",
    "except Exception as e:\n",
    "    print(\"Erro ao converter resposta:\", e)\n",
    "    print(\"Texto da resposta:\", res.text)"
   ]
  },
  {
   "cell_type": "markdown",
   "id": "f31860c4",
   "metadata": {},
   "source": [
    "Atualizar um Produto:"
   ]
  },
  {
   "cell_type": "code",
   "execution_count": 11,
   "id": "5ca34855",
   "metadata": {},
   "outputs": [
    {
     "name": "stdout",
     "output_type": "stream",
     "text": [
      "\n",
      "✏️ PUT /produtos/1 - Atualizar\n",
      "Status: 200\n",
      "Resposta: {'descricao': 'Proteína isolada de alta qualidade', 'id': 1, 'link_compra': 'https://loja.exemplo.com/whey-isolado', 'nome': 'Whey Protein Isolado', 'preco': 109.9}\n"
     ]
    }
   ],
   "source": [
    "atualizacao = {\n",
    "    \"nome\": \"Whey Protein Isolado\",\n",
    "    \"descricao\": \"Proteína isolada de alta qualidade\",\n",
    "    \"preco\": 109.90,\n",
    "    \"link_compra\": \"https://loja.exemplo.com/whey-isolado\"\n",
    "}\n",
    "res = requests.put(f\"{BASE_URL}/{produto_id}\", data=atualizacao)\n",
    "print(f\"\\n✏️ PUT /produtos/{produto_id} - Atualizar\")\n",
    "print(\"Status:\", res.status_code)\n",
    "print(\"Resposta:\", res.json())"
   ]
  },
  {
   "cell_type": "markdown",
   "id": "3e650a37",
   "metadata": {},
   "source": [
    "Deletar um Produto:"
   ]
  },
  {
   "cell_type": "code",
   "execution_count": 12,
   "id": "9fcf8583",
   "metadata": {},
   "outputs": [
    {
     "name": "stdout",
     "output_type": "stream",
     "text": [
      "\n",
      "🗑️ DELETE /produtos/1 - Excluir\n",
      "Status: 204\n",
      "Resposta: \n"
     ]
    }
   ],
   "source": [
    "res = requests.delete(f\"{BASE_URL}/{produto_id}\")\n",
    "print(f\"\\n🗑️ DELETE /produtos/{produto_id} - Excluir\")\n",
    "print(\"Status:\", res.status_code)\n",
    "print(\"Resposta:\", res.text)"
   ]
  }
 ],
 "metadata": {
  "kernelspec": {
   "display_name": "Python 3",
   "language": "python",
   "name": "python3"
  },
  "language_info": {
   "codemirror_mode": {
    "name": "ipython",
    "version": 3
   },
   "file_extension": ".py",
   "mimetype": "text/x-python",
   "name": "python",
   "nbconvert_exporter": "python",
   "pygments_lexer": "ipython3",
   "version": "3.13.2"
  }
 },
 "nbformat": 4,
 "nbformat_minor": 5
}
