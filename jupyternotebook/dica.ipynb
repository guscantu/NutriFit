{
 "cells": [
  {
   "cell_type": "markdown",
   "id": "69ba8648",
   "metadata": {},
   "source": [
    "Exemplo de uso da API da tabelas Dicas:"
   ]
  },
  {
   "cell_type": "markdown",
   "id": "88b92575",
   "metadata": {},
   "source": [
    "Este notebook demonstra o funcionamento da API de Dica do sistema NutriFit."
   ]
  },
  {
   "cell_type": "code",
   "execution_count": 1,
   "id": "fca7d770",
   "metadata": {},
   "outputs": [],
   "source": [
    "import requests\n"
   ]
  },
  {
   "cell_type": "code",
   "execution_count": 2,
   "id": "8e965500",
   "metadata": {},
   "outputs": [],
   "source": [
    "BASE_URL_DICA = \"http://127.0.0.1:5000/api/dicas\""
   ]
  },
  {
   "cell_type": "markdown",
   "id": "95b71397",
   "metadata": {},
   "source": [
    "Criar Dica:"
   ]
  },
  {
   "cell_type": "code",
   "execution_count": 8,
   "id": "4b29e22a",
   "metadata": {},
   "outputs": [
    {
     "name": "stdout",
     "output_type": "stream",
     "text": [
      "Status: 201\n",
      "Resposta: {'id': 2, 'objetivo': 'perder peso', 'texto': 'Beba mais água ao longo do dia.'}\n"
     ]
    }
   ],
   "source": [
    "nova_dica = {\n",
    "    \"objetivo\": \"perder peso\",\n",
    "    \"texto\": \"Beba mais água ao longo do dia.\"\n",
    "}\n",
    "response = requests.post(BASE_URL_DICA, data=nova_dica)\n",
    "print(\"Status:\", response.status_code)\n",
    "print(\"Resposta:\", response.json())"
   ]
  },
  {
   "cell_type": "markdown",
   "id": "22a9be46",
   "metadata": {},
   "source": [
    "Listar todas as Dicas:"
   ]
  },
  {
   "cell_type": "code",
   "execution_count": 4,
   "id": "bd1ac948",
   "metadata": {},
   "outputs": [
    {
     "name": "stdout",
     "output_type": "stream",
     "text": [
      "Status: 200\n",
      "Resposta: [{'id': 1, 'objetivo': 'perder peso', 'texto': 'Beba mais água ao longo do dia.'}]\n"
     ]
    }
   ],
   "source": [
    "response = requests.get(BASE_URL_DICA)\n",
    "print(\"Status:\", response.status_code)\n",
    "print(\"Resposta:\", response.json())"
   ]
  },
  {
   "cell_type": "markdown",
   "id": "f8443e6d",
   "metadata": {},
   "source": [
    "Buscar dica por ID:"
   ]
  },
  {
   "cell_type": "code",
   "execution_count": 5,
   "id": "1473c8ab",
   "metadata": {},
   "outputs": [
    {
     "name": "stdout",
     "output_type": "stream",
     "text": [
      "Status: 200\n",
      "Resposta: {'id': 1, 'objetivo': 'perder peso', 'texto': 'Beba mais água ao longo do dia.'}\n"
     ]
    }
   ],
   "source": [
    "dica_id = 1  # Altere conforme necessário\n",
    "response = requests.get(f\"{BASE_URL_DICA}/{dica_id}\")\n",
    "print(\"Status:\", response.status_code)\n",
    "print(\"Resposta:\", response.json())"
   ]
  },
  {
   "cell_type": "markdown",
   "id": "d1a14d05",
   "metadata": {},
   "source": [
    "Atualizar uma Dica que existe:"
   ]
  },
  {
   "cell_type": "code",
   "execution_count": 6,
   "id": "c716016a",
   "metadata": {},
   "outputs": [
    {
     "name": "stdout",
     "output_type": "stream",
     "text": [
      "Status: 200\n",
      "Resposta: {'id': 1, 'objetivo': 'ganhar massa muscular', 'texto': 'Inclua proteínas em todas as refeições.'}\n"
     ]
    }
   ],
   "source": [
    "dica_id = 1  # Altere conforme necessário\n",
    "dados_atualizados = {\n",
    "    \"objetivo\": \"ganhar massa muscular\",\n",
    "    \"texto\": \"Inclua proteínas em todas as refeições.\"\n",
    "}\n",
    "response = requests.put(f\"{BASE_URL_DICA}/{dica_id}\", data=dados_atualizados)\n",
    "print(\"Status:\", response.status_code)\n",
    "print(\"Resposta:\", response.json())"
   ]
  },
  {
   "cell_type": "markdown",
   "id": "225cb85d",
   "metadata": {},
   "source": [
    "Deletar uma Dica:"
   ]
  },
  {
   "cell_type": "code",
   "execution_count": 7,
   "id": "7539dd74",
   "metadata": {},
   "outputs": [
    {
     "name": "stdout",
     "output_type": "stream",
     "text": [
      "Status: 204\n",
      "Resposta: \n"
     ]
    }
   ],
   "source": [
    "dica_id = 1  # Altere conforme necessário\n",
    "response = requests.delete(f\"{BASE_URL_DICA}/{dica_id}\")\n",
    "print(\"Status:\", response.status_code)\n",
    "print(\"Resposta:\", response.text)"
   ]
  }
 ],
 "metadata": {
  "kernelspec": {
   "display_name": "Python 3",
   "language": "python",
   "name": "python3"
  },
  "language_info": {
   "codemirror_mode": {
    "name": "ipython",
    "version": 3
   },
   "file_extension": ".py",
   "mimetype": "text/x-python",
   "name": "python",
   "nbconvert_exporter": "python",
   "pygments_lexer": "ipython3",
   "version": "3.13.2"
  }
 },
 "nbformat": 4,
 "nbformat_minor": 5
}
