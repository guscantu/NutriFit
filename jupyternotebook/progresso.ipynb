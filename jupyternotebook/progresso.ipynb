{
 "cells": [
  {
   "cell_type": "markdown",
   "id": "e9cdfc56",
   "metadata": {},
   "source": [
    "Exemplo de uso da API da tabela Progresso:"
   ]
  },
  {
   "cell_type": "markdown",
   "id": "1c45652e",
   "metadata": {},
   "source": [
    "Este notebook realiza testes nos endpoints relacionados à entidade **Progresso**."
   ]
  },
  {
   "cell_type": "code",
   "execution_count": 18,
   "id": "a91fa7d4",
   "metadata": {},
   "outputs": [],
   "source": [
    "import requests\n",
    "from pprint import pprint\n"
   ]
  },
  {
   "cell_type": "code",
   "execution_count": 19,
   "id": "f83e167d",
   "metadata": {},
   "outputs": [],
   "source": [
    "BASE_URL = \"http://localhost:5000/api\""
   ]
  },
  {
   "cell_type": "markdown",
   "id": "adcb14b5",
   "metadata": {},
   "source": [
    "Listar todos os registros de progresso:"
   ]
  },
  {
   "cell_type": "code",
   "execution_count": 27,
   "id": "6206ff49",
   "metadata": {},
   "outputs": [
    {
     "name": "stdout",
     "output_type": "stream",
     "text": [
      "\n",
      "📥 GET /progresso\n",
      "Status: 200\n",
      "[{'dataprogresso': '2025-06-06',\n",
      "  'id': 2,\n",
      "  'imc': 27.9,\n",
      "  'peso': 80.5,\n",
      "  'usuario_id': 4}]\n"
     ]
    }
   ],
   "source": [
    "print(\"\\n📥 GET /progresso\")\n",
    "response = requests.get(f\"{BASE_URL}/progresso\")\n",
    "print(\"Status:\", response.status_code)\n",
    "try:\n",
    "    pprint(response.json())\n",
    "except Exception as e:\n",
    "    print(\"Erro ao converter para JSON:\", e)\n",
    "    print(\"Resposta:\", response.text)\n"
   ]
  },
  {
   "cell_type": "markdown",
   "id": "d0e63c0c",
   "metadata": {},
   "source": [
    "Adicionar um novo Progresso:"
   ]
  },
  {
   "cell_type": "code",
   "execution_count": 26,
   "id": "59057846",
   "metadata": {},
   "outputs": [
    {
     "name": "stdout",
     "output_type": "stream",
     "text": [
      "\n",
      "➕ POST /progresso\n",
      "Status: 201\n",
      "{'dataprogresso': '2025-06-06',\n",
      " 'id': 2,\n",
      " 'imc': 27.9,\n",
      " 'peso': 80.5,\n",
      " 'usuario_id': 4}\n"
     ]
    }
   ],
   "source": [
    "print(\"\\n➕ POST /progresso\")\n",
    "payload = {\n",
    "    \"usuario_id\": 4,\n",
    "    \"dataprogresso\": \"2025-06-06\",\n",
    "    \"peso\": 80.5,\n",
    "    \"imc\": 27.9\n",
    "}\n",
    "response = requests.post(f\"{BASE_URL}/progresso\", data=payload)\n",
    "print(\"Status:\", response.status_code)\n",
    "try:\n",
    "    novo = response.json()\n",
    "    pprint(novo)\n",
    "    progresso_id = novo[\"id\"]\n",
    "except Exception as e:\n",
    "    print(\"Erro ao converter para JSON:\", e)\n",
    "    progresso_id = None\n"
   ]
  },
  {
   "cell_type": "markdown",
   "id": "87bef6d3",
   "metadata": {},
   "source": [
    "Buscar um Progresso por ID:"
   ]
  },
  {
   "cell_type": "code",
   "execution_count": 22,
   "id": "cfcea102",
   "metadata": {},
   "outputs": [
    {
     "name": "stdout",
     "output_type": "stream",
     "text": [
      "\n",
      "🔎 GET /progresso/1\n",
      "Status: 200\n",
      "{'dataprogresso': '2025-06-06',\n",
      " 'id': 1,\n",
      " 'imc': 27.9,\n",
      " 'peso': 80.5,\n",
      " 'usuario_id': 4}\n"
     ]
    }
   ],
   "source": [
    "if progresso_id:\n",
    "    print(f\"\\n🔎 GET /progresso/{progresso_id}\")\n",
    "    response = requests.get(f\"{BASE_URL}/progresso/{progresso_id}\")\n",
    "    print(\"Status:\", response.status_code)\n",
    "    try:\n",
    "        pprint(response.json())\n",
    "    except Exception as e:\n",
    "        print(\"Erro ao converter para JSON:\", e)\n",
    "        print(\"Resposta:\", response.text)\n"
   ]
  },
  {
   "cell_type": "markdown",
   "id": "287c2727",
   "metadata": {},
   "source": [
    "Atualizar um Progresso:"
   ]
  },
  {
   "cell_type": "code",
   "execution_count": 31,
   "id": "8d07534b",
   "metadata": {},
   "outputs": [
    {
     "name": "stdout",
     "output_type": "stream",
     "text": [
      "Status: 200\n",
      "{'dataprogresso': '2025-06-10', 'id': 2, 'imc': 27.5, 'peso': 79.8, 'usuario_id': 4}\n"
     ]
    }
   ],
   "source": [
    "payload = {\n",
    "    \"usuario_id\": 4,\n",
    "    \"dataprogresso\": \"2025-06-10\",\n",
    "    \"peso\": 79.8,\n",
    "    \"imc\": 27.5\n",
    "}\n",
    "\n",
    "response = requests.put(f\"{BASE_URL}/progresso/{progresso_id}\", data=payload)\n",
    "print(\"Status:\", response.status_code)\n",
    "try:\n",
    "    print(response.json())\n",
    "except Exception as e:\n",
    "    print(\"Erro ao converter para JSON:\", e)\n",
    "    print(\"Resposta:\", response.text)\n"
   ]
  },
  {
   "cell_type": "markdown",
   "id": "b297f68a",
   "metadata": {},
   "source": [
    "Deletar um Progresso:"
   ]
  },
  {
   "cell_type": "code",
   "execution_count": 24,
   "id": "7af8128b",
   "metadata": {},
   "outputs": [
    {
     "name": "stdout",
     "output_type": "stream",
     "text": [
      "\n",
      "❌ DELETE /progresso/1\n",
      "Status: 204\n",
      "Resposta: \n"
     ]
    }
   ],
   "source": [
    "if progresso_id:\n",
    "    print(f\"\\n❌ DELETE /progresso/{progresso_id}\")\n",
    "    response = requests.delete(f\"{BASE_URL}/progresso/{progresso_id}\")\n",
    "    print(\"Status:\", response.status_code)\n",
    "    print(\"Resposta:\", response.text)\n"
   ]
  }
 ],
 "metadata": {
  "kernelspec": {
   "display_name": "Python 3",
   "language": "python",
   "name": "python3"
  },
  "language_info": {
   "codemirror_mode": {
    "name": "ipython",
    "version": 3
   },
   "file_extension": ".py",
   "mimetype": "text/x-python",
   "name": "python",
   "nbconvert_exporter": "python",
   "pygments_lexer": "ipython3",
   "version": "3.13.2"
  }
 },
 "nbformat": 4,
 "nbformat_minor": 5
}
